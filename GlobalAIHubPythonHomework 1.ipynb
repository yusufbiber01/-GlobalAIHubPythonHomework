{
 "cells": [
  {
   "cell_type": "code",
   "execution_count": 12,
   "metadata": {},
   "outputs": [
    {
     "name": "stdout",
     "output_type": "stream",
     "text": [
      "<class 'int'>\n",
      "<class 'int'>\n",
      "<class 'str'>\n",
      "<class 'int'>\n",
      "<class 'int'>\n",
      "My value:63 and your value:74 , his value:83 ,our value:55, their value:48\n",
      "My value:63 and your value:74, his value:83, our value:55, their value:48\n"
     ]
    }
   ],
   "source": [
    "data1= 63\n",
    "data2= 74\n",
    "data3=\"83\"\n",
    "data4= 55\n",
    "data5= 48\n",
    "print(type(data1))\n",
    "print(type(data2))\n",
    "print(type(data3))\n",
    "print(type(data4))\n",
    "print(type(data5))\n",
    "print(\"My value:{} and your value:{} , his value:{} ,our value:{}, their value:{}\".format(data1, data2, data3, data4, data5))\n",
    "print(f\"My value:{data1} and your value:{data2}, his value:{data3}, our value:{data4}, their value:{data5}\")"
   ]
  },
  {
   "cell_type": "code",
   "execution_count": null,
   "metadata": {},
   "outputs": [],
   "source": []
  },
  {
   "cell_type": "code",
   "execution_count": null,
   "metadata": {},
   "outputs": [],
   "source": []
  }
 ],
 "metadata": {
  "kernelspec": {
   "display_name": "Python 3",
   "language": "python",
   "name": "python3"
  },
  "language_info": {
   "codemirror_mode": {
    "name": "ipython",
    "version": 3
   },
   "file_extension": ".py",
   "mimetype": "text/x-python",
   "name": "python",
   "nbconvert_exporter": "python",
   "pygments_lexer": "ipython3",
   "version": "3.8.5"
  }
 },
 "nbformat": 4,
 "nbformat_minor": 4
}
